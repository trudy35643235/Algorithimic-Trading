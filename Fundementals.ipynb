{
 "cells": [
  {
   "cell_type": "code",
   "execution_count": 5,
   "id": "7423ff8a-0446-4b5c-82e2-f2d3c809538d",
   "metadata": {},
   "outputs": [
    {
     "name": "stderr",
     "output_type": "stream",
     "text": [
      "Obtaining income data: 100%|█████████████████████████████████████████████████████████████| 1/1 [00:00<00:00,  9.47it/s]\n"
     ]
    },
    {
     "name": "stdout",
     "output_type": "stream",
     "text": [
      "\n",
      "Income Statement:\n",
      "date                                                   2019           2020  \\\n",
      "Revenue                                      260174000000.0 274515000000.0   \n",
      "Cost of Goods Sold                           161782000000.0 169559000000.0   \n",
      "Gross Profit                                  98392000000.0 104956000000.0   \n",
      "Gross Profit Ratio                                   0.3782         0.3823   \n",
      "Research and Development Expenses             16217000000.0  18752000000.0   \n",
      "General and Administrative Expenses                     0.0            0.0   \n",
      "Selling and Marketing Expenses                          0.0            0.0   \n",
      "Selling, General and Administrative Expenses  18245000000.0  19916000000.0   \n",
      "Other Expenses                                 1807000000.0    803000000.0   \n",
      "Operating Expenses                            34462000000.0  38668000000.0   \n",
      "Cost and Expenses                            196244000000.0 208227000000.0   \n",
      "Interest Income                                4961000000.0   3763000000.0   \n",
      "Interest Expense                               3576000000.0   2873000000.0   \n",
      "Depreciation and Amortization                 12547000000.0  11056000000.0   \n",
      "EBITDA                                        76477000000.0  77344000000.0   \n",
      "EBITDA Ratio                                         0.2939         0.2817   \n",
      "Operating Income                              63930000000.0  66288000000.0   \n",
      "Operating Income Ratio                               0.2457         0.2415   \n",
      "Total Other Income                             1807000000.0    803000000.0   \n",
      "Income Before Tax                             65737000000.0  67091000000.0   \n",
      "Income Before Tax Ratio                              0.2527         0.2444   \n",
      "Income Tax Expense                            10481000000.0   9680000000.0   \n",
      "Net Income                                    55256000000.0  57411000000.0   \n",
      "Net Income Ratio                                     0.2124         0.2091   \n",
      "EPS                                                    2.99           3.31   \n",
      "EPS Diluted                                            2.97           3.28   \n",
      "Weighted Average Shares                       18471336000.0  17352119000.0   \n",
      "Weighted Average Shares Diluted               18595652000.0  17528214000.0   \n",
      "\n",
      "date                                                   2021           2022  \\\n",
      "Revenue                                      365817000000.0 394328000000.0   \n",
      "Cost of Goods Sold                           212981000000.0 223546000000.0   \n",
      "Gross Profit                                 152836000000.0 170782000000.0   \n",
      "Gross Profit Ratio                                   0.4178         0.4331   \n",
      "Research and Development Expenses             21914000000.0  26251000000.0   \n",
      "General and Administrative Expenses                     0.0            0.0   \n",
      "Selling and Marketing Expenses                          0.0            0.0   \n",
      "Selling, General and Administrative Expenses  21973000000.0  25094000000.0   \n",
      "Other Expenses                                  258000000.0   -334000000.0   \n",
      "Operating Expenses                            43887000000.0  51345000000.0   \n",
      "Cost and Expenses                            256868000000.0 274891000000.0   \n",
      "Interest Income                                2843000000.0   2825000000.0   \n",
      "Interest Expense                               2645000000.0   2931000000.0   \n",
      "Depreciation and Amortization                 11284000000.0  11104000000.0   \n",
      "EBITDA                                       120233000000.0 130541000000.0   \n",
      "EBITDA Ratio                                         0.3287          0.331   \n",
      "Operating Income                             108949000000.0 119437000000.0   \n",
      "Operating Income Ratio                               0.2978         0.3029   \n",
      "Total Other Income                              258000000.0   -334000000.0   \n",
      "Income Before Tax                            109207000000.0 119103000000.0   \n",
      "Income Before Tax Ratio                              0.2985          0.302   \n",
      "Income Tax Expense                            14527000000.0  19300000000.0   \n",
      "Net Income                                    94680000000.0  99803000000.0   \n",
      "Net Income Ratio                                     0.2588         0.2531   \n",
      "EPS                                                    5.67           6.15   \n",
      "EPS Diluted                                            5.61           6.11   \n",
      "Weighted Average Shares                       16701272000.0  16215963000.0   \n",
      "Weighted Average Shares Diluted               16864919000.0  16325819000.0   \n",
      "\n",
      "date                                                   2023  \n",
      "Revenue                                      383285000000.0  \n",
      "Cost of Goods Sold                           214137000000.0  \n",
      "Gross Profit                                 169148000000.0  \n",
      "Gross Profit Ratio                                   0.4413  \n",
      "Research and Development Expenses             29915000000.0  \n",
      "General and Administrative Expenses                     0.0  \n",
      "Selling and Marketing Expenses                          0.0  \n",
      "Selling, General and Administrative Expenses  24932000000.0  \n",
      "Other Expenses                                 -565000000.0  \n",
      "Operating Expenses                            54847000000.0  \n",
      "Cost and Expenses                            268984000000.0  \n",
      "Interest Income                                3750000000.0  \n",
      "Interest Expense                               3933000000.0  \n",
      "Depreciation and Amortization                 11519000000.0  \n",
      "EBITDA                                       125820000000.0  \n",
      "EBITDA Ratio                                         0.3283  \n",
      "Operating Income                             114301000000.0  \n",
      "Operating Income Ratio                               0.2982  \n",
      "Total Other Income                             -565000000.0  \n",
      "Income Before Tax                            113736000000.0  \n",
      "Income Before Tax Ratio                              0.2967  \n",
      "Income Tax Expense                            16741000000.0  \n",
      "Net Income                                    96995000000.0  \n",
      "Net Income Ratio                                     0.2531  \n",
      "EPS                                                    6.16  \n",
      "EPS Diluted                                            6.13  \n",
      "Weighted Average Shares                       15744231000.0  \n",
      "Weighted Average Shares Diluted               15812547000.0  \n"
     ]
    }
   ],
   "source": [
    "#INCOME STATEMENT\n",
    "\n",
    "\n",
    "from financetoolkit import Toolkit\n",
    "import pandas as pd\n",
    "\n",
    "companies = Toolkit(\n",
    "    tickers=['AAPL'],\n",
    "    api_key=\"g0pRi6TwmAHVIvYwq7vjkM6i2qL6PVtv\",\n",
    ")\n",
    "\n",
    "# Financial Statement example\n",
    "income_statement = companies.get_income_statement()\n",
    "income_statement_df = pd.DataFrame(income_statement)\n",
    "print(\"\\nIncome Statement:\")\n",
    "print(income_statement_df)"
   ]
  },
  {
   "cell_type": "code",
   "execution_count": 3,
   "id": "5bf4a261-8079-4a9f-acae-5b27f5e0a6bf",
   "metadata": {
    "tags": []
   },
   "outputs": [
    {
     "name": "stderr",
     "output_type": "stream",
     "text": [
      "Obtaining financial statements: 100%|████████████████████████████████████████████████████| 3/3 [00:03<00:00,  1.05s/it]\n",
      "Obtaining historical data: 100%|█████████████████████████████████████████████████████████| 2/2 [00:00<00:00,  9.42it/s]\n"
     ]
    },
    {
     "name": "stdout",
     "output_type": "stream",
     "text": [
      "\n",
      "Profitability Ratios:\n",
      "date                                           2019   2020    2021   2022  \\\n",
      "Gross Margin                                 0.3782 0.3823  0.4178 0.4331   \n",
      "Operating Margin                             0.2457 0.2415  0.2978 0.3029   \n",
      "Net Profit Margin                            0.2124 0.2091  0.2588 0.2531   \n",
      "Interest Coverage Ratio                     21.3862 26.921 45.4567 44.538   \n",
      "Income Before Tax Profit Margin              0.2527 0.2444  0.2985  0.302   \n",
      "Effective Tax Rate                           0.1594 0.1443   0.133  0.162   \n",
      "Return on Assets (ROA)                          NaN 0.1733  0.2806 0.2836   \n",
      "Return on Equity (ROE)                          NaN 0.7369  1.4744 1.7546   \n",
      "Return on Invested Capital (ROIC)               NaN   0.38  0.5971 0.6395   \n",
      "Return on Capital Employed (ROCE)            0.2977 0.3202   0.496 0.6139   \n",
      "Return on Tangible Assets                       NaN 0.0982   0.155 0.1543   \n",
      "Income Quality Ratio                         1.2558 1.4052  1.0988 1.2239   \n",
      "Net Income per EBT                           0.8406 0.8557   0.867  0.838   \n",
      "Free Cash Flow to Operating Cash Flow Ratio  0.8488 0.9094  0.8935 0.9123   \n",
      "EBT to EBIT Ratio                            0.9484 0.9589  0.9764  0.976   \n",
      "EBIT to Revenue                              0.2664 0.2549  0.3058 0.3095   \n",
      "\n",
      "date                                           2023  \n",
      "Gross Margin                                 0.4413  \n",
      "Operating Margin                             0.2982  \n",
      "Net Profit Margin                            0.2531  \n",
      "Interest Coverage Ratio                     31.9908  \n",
      "Income Before Tax Profit Margin              0.2967  \n",
      "Effective Tax Rate                           0.1472  \n",
      "Return on Assets (ROA)                        0.275  \n",
      "Return on Equity (ROE)                       1.7195  \n",
      "Return on Invested Capital (ROIC)            0.6513  \n",
      "Return on Capital Employed (ROCE)            0.5677  \n",
      "Return on Tangible Assets                    0.1495  \n",
      "Income Quality Ratio                         1.1397  \n",
      "Net Income per EBT                           0.8528  \n",
      "Free Cash Flow to Operating Cash Flow Ratio  0.9009  \n",
      "EBT to EBIT Ratio                            0.9666  \n",
      "EBIT to Revenue                               0.307  \n"
     ]
    }
   ],
   "source": [
    "#PROFITABILITY RATIOS\n",
    "\n",
    "from financetoolkit import Toolkit\n",
    "import pandas as pd\n",
    "\n",
    "companies = Toolkit(\n",
    "    tickers=['AAPL'],\n",
    "    api_key=\"g0pRi6TwmAHVIvYwq7vjkM6i2qL6PVtv\",\n",
    ")\n",
    "\n",
    "\n",
    "# Ratios example\n",
    "profitability_ratios = companies.ratios.collect_profitability_ratios()\n",
    "ratios_df = pd.DataFrame(profitability_ratios)\n",
    "print(\"\\nProfitability Ratios:\")\n",
    "print(ratios_df)"
   ]
  },
  {
   "cell_type": "code",
   "execution_count": null,
   "id": "765abcca-f4b6-4641-8cae-510d81765f5a",
   "metadata": {},
   "outputs": [],
   "source": [
    "piotroski f-score "
   ]
  },
  {
   "cell_type": "code",
   "execution_count": 2,
   "id": "cb20b533-ee67-49a1-acff-cb2efee2d610",
   "metadata": {
    "tags": []
   },
   "outputs": [
    {
     "name": "stdout",
     "output_type": "stream",
     "text": [
      "Requirement already satisfied: plotly in c:\\users\\trudy\\anaconda3\\lib\\site-packages (5.9.0)\n",
      "Requirement already satisfied: tenacity>=6.2.0 in c:\\users\\trudy\\anaconda3\\lib\\site-packages (from plotly) (8.2.2)\n",
      "Note: you may need to restart the kernel to use updated packages.\n"
     ]
    }
   ],
   "source": [
    "pip install plotly"
   ]
  },
  {
   "cell_type": "code",
   "execution_count": null,
   "id": "c6f92dd1-9628-4d42-87cc-5152f2c35ecf",
   "metadata": {},
   "outputs": [],
   "source": []
  }
 ],
 "metadata": {
  "kernelspec": {
   "display_name": "Python 3 (ipykernel)",
   "language": "python",
   "name": "python3"
  },
  "language_info": {
   "codemirror_mode": {
    "name": "ipython",
    "version": 3
   },
   "file_extension": ".py",
   "mimetype": "text/x-python",
   "name": "python",
   "nbconvert_exporter": "python",
   "pygments_lexer": "ipython3",
   "version": "3.11.4"
  }
 },
 "nbformat": 4,
 "nbformat_minor": 5
}
